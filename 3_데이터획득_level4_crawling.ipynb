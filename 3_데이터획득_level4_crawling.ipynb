{
  "nbformat": 4,
  "nbformat_minor": 0,
  "metadata": {
    "colab": {
      "name": "3. 데이터획득_level4_crawling.ipynb",
      "provenance": [],
      "collapsed_sections": [],
      "authorship_tag": "ABX9TyNP6zQFnPjDF6hJkrWpv0LP",
      "include_colab_link": true
    },
    "kernelspec": {
      "name": "python3",
      "display_name": "Python 3"
    }
  },
  "cells": [
    {
      "cell_type": "markdown",
      "metadata": {
        "id": "view-in-github",
        "colab_type": "text"
      },
      "source": [
        "<a href=\"https://colab.research.google.com/github/spaceofsilver/crawling/blob/main/3_%EB%8D%B0%EC%9D%B4%ED%84%B0%ED%9A%8D%EB%93%9D_level4_crawling.ipynb\" target=\"_parent\"><img src=\"https://colab.research.google.com/assets/colab-badge.svg\" alt=\"Open In Colab\"/></a>"
      ]
    },
    {
      "cell_type": "markdown",
      "metadata": {
        "id": "lQQTEuvtnuZL"
      },
      "source": [
        "# 크롤링\r\n",
        "\r\n",
        "- 내가 작성한 프로그램에 의해서 웹 드라이버(브라우저 벤더별로 만든 핸들링이 가능한 브라우저)를 엑세스 하여 데이터 수집 행위를 하는 것\r\n",
        "- 재료\r\n",
        "  - 웹 드라이버( 로컬 pc에 존재 )\r\n",
        "    - 브라우저를 직접 띄워서 처리하는 방식\r\n",
        "    - 브라우저를 백엔드(일종의 고스트 브라우저)에서 처리하는 방식(숨김-> 리눅스환경)\r\n",
        "  - 모듈\r\n",
        "    - selenium \r\n",
        "    - 크롬 브라우저도 고스트 기능을 사용할 수 있어서 리눅스(서버스타일)에서 구동이 가능해짐\r\n",
        "  - colab에서는 불가 -> 아나콘다에서 진행\r\n"
      ]
    }
  ]
}