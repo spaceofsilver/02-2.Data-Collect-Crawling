{
  "nbformat": 4,
  "nbformat_minor": 0,
  "metadata": {
    "colab": {
      "name": "2.데이터_수집_level3.ipynb",
      "provenance": [],
      "collapsed_sections": [],
      "toc_visible": true,
      "authorship_tag": "ABX9TyMHNFpvBAYb6EmxrcvkLQ30",
      "include_colab_link": true
    },
    "kernelspec": {
      "name": "python3",
      "display_name": "Python 3"
    },
    "widgets": {
      "application/vnd.jupyter.widget-state+json": {
        "4d200244b9db4d9da9dd90c4a068319f": {
          "model_module": "@jupyter-widgets/controls",
          "model_name": "HBoxModel",
          "state": {
            "_view_name": "HBoxView",
            "_dom_classes": [],
            "_model_name": "HBoxModel",
            "_view_module": "@jupyter-widgets/controls",
            "_model_module_version": "1.5.0",
            "_view_count": null,
            "_view_module_version": "1.5.0",
            "box_style": "",
            "layout": "IPY_MODEL_3004fac1031d47d69b3e6fb463e49cfd",
            "_model_module": "@jupyter-widgets/controls",
            "children": [
              "IPY_MODEL_84aad208ab6e4e608f5fe3e2c2779e37",
              "IPY_MODEL_aa4822d298dc4a17bc72641d9e0dc665"
            ]
          }
        },
        "3004fac1031d47d69b3e6fb463e49cfd": {
          "model_module": "@jupyter-widgets/base",
          "model_name": "LayoutModel",
          "state": {
            "_view_name": "LayoutView",
            "grid_template_rows": null,
            "right": null,
            "justify_content": null,
            "_view_module": "@jupyter-widgets/base",
            "overflow": null,
            "_model_module_version": "1.2.0",
            "_view_count": null,
            "flex_flow": null,
            "width": null,
            "min_width": null,
            "border": null,
            "align_items": null,
            "bottom": null,
            "_model_module": "@jupyter-widgets/base",
            "top": null,
            "grid_column": null,
            "overflow_y": null,
            "overflow_x": null,
            "grid_auto_flow": null,
            "grid_area": null,
            "grid_template_columns": null,
            "flex": null,
            "_model_name": "LayoutModel",
            "justify_items": null,
            "grid_row": null,
            "max_height": null,
            "align_content": null,
            "visibility": null,
            "align_self": null,
            "height": null,
            "min_height": null,
            "padding": null,
            "grid_auto_rows": null,
            "grid_gap": null,
            "max_width": null,
            "order": null,
            "_view_module_version": "1.2.0",
            "grid_template_areas": null,
            "object_position": null,
            "object_fit": null,
            "grid_auto_columns": null,
            "margin": null,
            "display": null,
            "left": null
          }
        },
        "84aad208ab6e4e608f5fe3e2c2779e37": {
          "model_module": "@jupyter-widgets/controls",
          "model_name": "FloatProgressModel",
          "state": {
            "_view_name": "ProgressView",
            "style": "IPY_MODEL_55c087ae46974b8da791b9b2cba1af21",
            "_dom_classes": [],
            "description": "  0%",
            "_model_name": "FloatProgressModel",
            "bar_style": "danger",
            "max": 4,
            "_view_module": "@jupyter-widgets/controls",
            "_model_module_version": "1.5.0",
            "value": 0,
            "_view_count": null,
            "_view_module_version": "1.5.0",
            "orientation": "horizontal",
            "min": 0,
            "description_tooltip": null,
            "_model_module": "@jupyter-widgets/controls",
            "layout": "IPY_MODEL_871cfe111dc14817861ada0201d35c2e"
          }
        },
        "aa4822d298dc4a17bc72641d9e0dc665": {
          "model_module": "@jupyter-widgets/controls",
          "model_name": "HTMLModel",
          "state": {
            "_view_name": "HTMLView",
            "style": "IPY_MODEL_bb340a5b50ac4705b4d4d06357700828",
            "_dom_classes": [],
            "description": "",
            "_model_name": "HTMLModel",
            "placeholder": "​",
            "_view_module": "@jupyter-widgets/controls",
            "_model_module_version": "1.5.0",
            "value": " 0/4 [00:02&lt;?, ?it/s]",
            "_view_count": null,
            "_view_module_version": "1.5.0",
            "description_tooltip": null,
            "_model_module": "@jupyter-widgets/controls",
            "layout": "IPY_MODEL_47d5ae3c4cc648188be5436dd7d41b95"
          }
        },
        "55c087ae46974b8da791b9b2cba1af21": {
          "model_module": "@jupyter-widgets/controls",
          "model_name": "ProgressStyleModel",
          "state": {
            "_view_name": "StyleView",
            "_model_name": "ProgressStyleModel",
            "description_width": "initial",
            "_view_module": "@jupyter-widgets/base",
            "_model_module_version": "1.5.0",
            "_view_count": null,
            "_view_module_version": "1.2.0",
            "bar_color": null,
            "_model_module": "@jupyter-widgets/controls"
          }
        },
        "871cfe111dc14817861ada0201d35c2e": {
          "model_module": "@jupyter-widgets/base",
          "model_name": "LayoutModel",
          "state": {
            "_view_name": "LayoutView",
            "grid_template_rows": null,
            "right": null,
            "justify_content": null,
            "_view_module": "@jupyter-widgets/base",
            "overflow": null,
            "_model_module_version": "1.2.0",
            "_view_count": null,
            "flex_flow": null,
            "width": null,
            "min_width": null,
            "border": null,
            "align_items": null,
            "bottom": null,
            "_model_module": "@jupyter-widgets/base",
            "top": null,
            "grid_column": null,
            "overflow_y": null,
            "overflow_x": null,
            "grid_auto_flow": null,
            "grid_area": null,
            "grid_template_columns": null,
            "flex": null,
            "_model_name": "LayoutModel",
            "justify_items": null,
            "grid_row": null,
            "max_height": null,
            "align_content": null,
            "visibility": null,
            "align_self": null,
            "height": null,
            "min_height": null,
            "padding": null,
            "grid_auto_rows": null,
            "grid_gap": null,
            "max_width": null,
            "order": null,
            "_view_module_version": "1.2.0",
            "grid_template_areas": null,
            "object_position": null,
            "object_fit": null,
            "grid_auto_columns": null,
            "margin": null,
            "display": null,
            "left": null
          }
        },
        "bb340a5b50ac4705b4d4d06357700828": {
          "model_module": "@jupyter-widgets/controls",
          "model_name": "DescriptionStyleModel",
          "state": {
            "_view_name": "StyleView",
            "_model_name": "DescriptionStyleModel",
            "description_width": "",
            "_view_module": "@jupyter-widgets/base",
            "_model_module_version": "1.5.0",
            "_view_count": null,
            "_view_module_version": "1.2.0",
            "_model_module": "@jupyter-widgets/controls"
          }
        },
        "47d5ae3c4cc648188be5436dd7d41b95": {
          "model_module": "@jupyter-widgets/base",
          "model_name": "LayoutModel",
          "state": {
            "_view_name": "LayoutView",
            "grid_template_rows": null,
            "right": null,
            "justify_content": null,
            "_view_module": "@jupyter-widgets/base",
            "overflow": null,
            "_model_module_version": "1.2.0",
            "_view_count": null,
            "flex_flow": null,
            "width": null,
            "min_width": null,
            "border": null,
            "align_items": null,
            "bottom": null,
            "_model_module": "@jupyter-widgets/base",
            "top": null,
            "grid_column": null,
            "overflow_y": null,
            "overflow_x": null,
            "grid_auto_flow": null,
            "grid_area": null,
            "grid_template_columns": null,
            "flex": null,
            "_model_name": "LayoutModel",
            "justify_items": null,
            "grid_row": null,
            "max_height": null,
            "align_content": null,
            "visibility": null,
            "align_self": null,
            "height": null,
            "min_height": null,
            "padding": null,
            "grid_auto_rows": null,
            "grid_gap": null,
            "max_width": null,
            "order": null,
            "_view_module_version": "1.2.0",
            "grid_template_areas": null,
            "object_position": null,
            "object_fit": null,
            "grid_auto_columns": null,
            "margin": null,
            "display": null,
            "left": null
          }
        },
        "8b07e8b3158a4d738db8afbf1fb90991": {
          "model_module": "@jupyter-widgets/controls",
          "model_name": "HBoxModel",
          "state": {
            "_view_name": "HBoxView",
            "_dom_classes": [],
            "_model_name": "HBoxModel",
            "_view_module": "@jupyter-widgets/controls",
            "_model_module_version": "1.5.0",
            "_view_count": null,
            "_view_module_version": "1.5.0",
            "box_style": "",
            "layout": "IPY_MODEL_13886d1b48f947bab5b3b226a7531224",
            "_model_module": "@jupyter-widgets/controls",
            "children": [
              "IPY_MODEL_0e7de5cc2201435aaa16fc17a27369d5",
              "IPY_MODEL_935fb3525eff4af9b2dbb6d07f3ea3d8"
            ]
          }
        },
        "13886d1b48f947bab5b3b226a7531224": {
          "model_module": "@jupyter-widgets/base",
          "model_name": "LayoutModel",
          "state": {
            "_view_name": "LayoutView",
            "grid_template_rows": null,
            "right": null,
            "justify_content": null,
            "_view_module": "@jupyter-widgets/base",
            "overflow": null,
            "_model_module_version": "1.2.0",
            "_view_count": null,
            "flex_flow": null,
            "width": null,
            "min_width": null,
            "border": null,
            "align_items": null,
            "bottom": null,
            "_model_module": "@jupyter-widgets/base",
            "top": null,
            "grid_column": null,
            "overflow_y": null,
            "overflow_x": null,
            "grid_auto_flow": null,
            "grid_area": null,
            "grid_template_columns": null,
            "flex": null,
            "_model_name": "LayoutModel",
            "justify_items": null,
            "grid_row": null,
            "max_height": null,
            "align_content": null,
            "visibility": null,
            "align_self": null,
            "height": null,
            "min_height": null,
            "padding": null,
            "grid_auto_rows": null,
            "grid_gap": null,
            "max_width": null,
            "order": null,
            "_view_module_version": "1.2.0",
            "grid_template_areas": null,
            "object_position": null,
            "object_fit": null,
            "grid_auto_columns": null,
            "margin": null,
            "display": null,
            "left": null
          }
        },
        "0e7de5cc2201435aaa16fc17a27369d5": {
          "model_module": "@jupyter-widgets/controls",
          "model_name": "FloatProgressModel",
          "state": {
            "_view_name": "ProgressView",
            "style": "IPY_MODEL_31fe3f3a3e124c3588d31d97784784fd",
            "_dom_classes": [],
            "description": "100%",
            "_model_name": "FloatProgressModel",
            "bar_style": "success",
            "max": 4,
            "_view_module": "@jupyter-widgets/controls",
            "_model_module_version": "1.5.0",
            "value": 4,
            "_view_count": null,
            "_view_module_version": "1.5.0",
            "orientation": "horizontal",
            "min": 0,
            "description_tooltip": null,
            "_model_module": "@jupyter-widgets/controls",
            "layout": "IPY_MODEL_f8b32ea4957e4de094b3cdc4083b17a0"
          }
        },
        "935fb3525eff4af9b2dbb6d07f3ea3d8": {
          "model_module": "@jupyter-widgets/controls",
          "model_name": "HTMLModel",
          "state": {
            "_view_name": "HTMLView",
            "style": "IPY_MODEL_3edfdc5d3f684189be8005247ba5e1a6",
            "_dom_classes": [],
            "description": "",
            "_model_name": "HTMLModel",
            "placeholder": "​",
            "_view_module": "@jupyter-widgets/controls",
            "_model_module_version": "1.5.0",
            "value": " 4/4 [49:11&lt;00:00, 737.95s/it]",
            "_view_count": null,
            "_view_module_version": "1.5.0",
            "description_tooltip": null,
            "_model_module": "@jupyter-widgets/controls",
            "layout": "IPY_MODEL_e70029fb3b184f70a9d245dfc6af381c"
          }
        },
        "31fe3f3a3e124c3588d31d97784784fd": {
          "model_module": "@jupyter-widgets/controls",
          "model_name": "ProgressStyleModel",
          "state": {
            "_view_name": "StyleView",
            "_model_name": "ProgressStyleModel",
            "description_width": "initial",
            "_view_module": "@jupyter-widgets/base",
            "_model_module_version": "1.5.0",
            "_view_count": null,
            "_view_module_version": "1.2.0",
            "bar_color": null,
            "_model_module": "@jupyter-widgets/controls"
          }
        },
        "f8b32ea4957e4de094b3cdc4083b17a0": {
          "model_module": "@jupyter-widgets/base",
          "model_name": "LayoutModel",
          "state": {
            "_view_name": "LayoutView",
            "grid_template_rows": null,
            "right": null,
            "justify_content": null,
            "_view_module": "@jupyter-widgets/base",
            "overflow": null,
            "_model_module_version": "1.2.0",
            "_view_count": null,
            "flex_flow": null,
            "width": null,
            "min_width": null,
            "border": null,
            "align_items": null,
            "bottom": null,
            "_model_module": "@jupyter-widgets/base",
            "top": null,
            "grid_column": null,
            "overflow_y": null,
            "overflow_x": null,
            "grid_auto_flow": null,
            "grid_area": null,
            "grid_template_columns": null,
            "flex": null,
            "_model_name": "LayoutModel",
            "justify_items": null,
            "grid_row": null,
            "max_height": null,
            "align_content": null,
            "visibility": null,
            "align_self": null,
            "height": null,
            "min_height": null,
            "padding": null,
            "grid_auto_rows": null,
            "grid_gap": null,
            "max_width": null,
            "order": null,
            "_view_module_version": "1.2.0",
            "grid_template_areas": null,
            "object_position": null,
            "object_fit": null,
            "grid_auto_columns": null,
            "margin": null,
            "display": null,
            "left": null
          }
        },
        "3edfdc5d3f684189be8005247ba5e1a6": {
          "model_module": "@jupyter-widgets/controls",
          "model_name": "DescriptionStyleModel",
          "state": {
            "_view_name": "StyleView",
            "_model_name": "DescriptionStyleModel",
            "description_width": "",
            "_view_module": "@jupyter-widgets/base",
            "_model_module_version": "1.5.0",
            "_view_count": null,
            "_view_module_version": "1.2.0",
            "_model_module": "@jupyter-widgets/controls"
          }
        },
        "e70029fb3b184f70a9d245dfc6af381c": {
          "model_module": "@jupyter-widgets/base",
          "model_name": "LayoutModel",
          "state": {
            "_view_name": "LayoutView",
            "grid_template_rows": null,
            "right": null,
            "justify_content": null,
            "_view_module": "@jupyter-widgets/base",
            "overflow": null,
            "_model_module_version": "1.2.0",
            "_view_count": null,
            "flex_flow": null,
            "width": null,
            "min_width": null,
            "border": null,
            "align_items": null,
            "bottom": null,
            "_model_module": "@jupyter-widgets/base",
            "top": null,
            "grid_column": null,
            "overflow_y": null,
            "overflow_x": null,
            "grid_auto_flow": null,
            "grid_area": null,
            "grid_template_columns": null,
            "flex": null,
            "_model_name": "LayoutModel",
            "justify_items": null,
            "grid_row": null,
            "max_height": null,
            "align_content": null,
            "visibility": null,
            "align_self": null,
            "height": null,
            "min_height": null,
            "padding": null,
            "grid_auto_rows": null,
            "grid_gap": null,
            "max_width": null,
            "order": null,
            "_view_module_version": "1.2.0",
            "grid_template_areas": null,
            "object_position": null,
            "object_fit": null,
            "grid_auto_columns": null,
            "margin": null,
            "display": null,
            "left": null
          }
        },
        "5503f7ec7ae440f183a06865436cc26c": {
          "model_module": "@jupyter-widgets/controls",
          "model_name": "HBoxModel",
          "state": {
            "_view_name": "HBoxView",
            "_dom_classes": [],
            "_model_name": "HBoxModel",
            "_view_module": "@jupyter-widgets/controls",
            "_model_module_version": "1.5.0",
            "_view_count": null,
            "_view_module_version": "1.5.0",
            "box_style": "",
            "layout": "IPY_MODEL_b2efcfb3fd1b4f8f95d9423fe7400235",
            "_model_module": "@jupyter-widgets/controls",
            "children": [
              "IPY_MODEL_271db95fdc94464ab9d0fcd66d2626af",
              "IPY_MODEL_62f59a6ac3204c949d3a53cc49621473"
            ]
          }
        },
        "b2efcfb3fd1b4f8f95d9423fe7400235": {
          "model_module": "@jupyter-widgets/base",
          "model_name": "LayoutModel",
          "state": {
            "_view_name": "LayoutView",
            "grid_template_rows": null,
            "right": null,
            "justify_content": null,
            "_view_module": "@jupyter-widgets/base",
            "overflow": null,
            "_model_module_version": "1.2.0",
            "_view_count": null,
            "flex_flow": null,
            "width": null,
            "min_width": null,
            "border": null,
            "align_items": null,
            "bottom": null,
            "_model_module": "@jupyter-widgets/base",
            "top": null,
            "grid_column": null,
            "overflow_y": null,
            "overflow_x": null,
            "grid_auto_flow": null,
            "grid_area": null,
            "grid_template_columns": null,
            "flex": null,
            "_model_name": "LayoutModel",
            "justify_items": null,
            "grid_row": null,
            "max_height": null,
            "align_content": null,
            "visibility": null,
            "align_self": null,
            "height": null,
            "min_height": null,
            "padding": null,
            "grid_auto_rows": null,
            "grid_gap": null,
            "max_width": null,
            "order": null,
            "_view_module_version": "1.2.0",
            "grid_template_areas": null,
            "object_position": null,
            "object_fit": null,
            "grid_auto_columns": null,
            "margin": null,
            "display": null,
            "left": null
          }
        },
        "271db95fdc94464ab9d0fcd66d2626af": {
          "model_module": "@jupyter-widgets/controls",
          "model_name": "FloatProgressModel",
          "state": {
            "_view_name": "ProgressView",
            "style": "IPY_MODEL_bf4bbe05c25f48d49406fc9217461fcd",
            "_dom_classes": [],
            "description": "100%",
            "_model_name": "FloatProgressModel",
            "bar_style": "success",
            "max": 4,
            "_view_module": "@jupyter-widgets/controls",
            "_model_module_version": "1.5.0",
            "value": 4,
            "_view_count": null,
            "_view_module_version": "1.5.0",
            "orientation": "horizontal",
            "min": 0,
            "description_tooltip": null,
            "_model_module": "@jupyter-widgets/controls",
            "layout": "IPY_MODEL_fa9a4cc887a744fa9f437e96f39569b1"
          }
        },
        "62f59a6ac3204c949d3a53cc49621473": {
          "model_module": "@jupyter-widgets/controls",
          "model_name": "HTMLModel",
          "state": {
            "_view_name": "HTMLView",
            "style": "IPY_MODEL_ce7d1a1d02f6427e804ca93f12a3a7c6",
            "_dom_classes": [],
            "description": "",
            "_model_name": "HTMLModel",
            "placeholder": "​",
            "_view_module": "@jupyter-widgets/controls",
            "_model_module_version": "1.5.0",
            "value": " 4/4 [36:25&lt;00:00, 546.35s/it]",
            "_view_count": null,
            "_view_module_version": "1.5.0",
            "description_tooltip": null,
            "_model_module": "@jupyter-widgets/controls",
            "layout": "IPY_MODEL_2c692992e9fb42898873e6bf33ad4d80"
          }
        },
        "bf4bbe05c25f48d49406fc9217461fcd": {
          "model_module": "@jupyter-widgets/controls",
          "model_name": "ProgressStyleModel",
          "state": {
            "_view_name": "StyleView",
            "_model_name": "ProgressStyleModel",
            "description_width": "initial",
            "_view_module": "@jupyter-widgets/base",
            "_model_module_version": "1.5.0",
            "_view_count": null,
            "_view_module_version": "1.2.0",
            "bar_color": null,
            "_model_module": "@jupyter-widgets/controls"
          }
        },
        "fa9a4cc887a744fa9f437e96f39569b1": {
          "model_module": "@jupyter-widgets/base",
          "model_name": "LayoutModel",
          "state": {
            "_view_name": "LayoutView",
            "grid_template_rows": null,
            "right": null,
            "justify_content": null,
            "_view_module": "@jupyter-widgets/base",
            "overflow": null,
            "_model_module_version": "1.2.0",
            "_view_count": null,
            "flex_flow": null,
            "width": null,
            "min_width": null,
            "border": null,
            "align_items": null,
            "bottom": null,
            "_model_module": "@jupyter-widgets/base",
            "top": null,
            "grid_column": null,
            "overflow_y": null,
            "overflow_x": null,
            "grid_auto_flow": null,
            "grid_area": null,
            "grid_template_columns": null,
            "flex": null,
            "_model_name": "LayoutModel",
            "justify_items": null,
            "grid_row": null,
            "max_height": null,
            "align_content": null,
            "visibility": null,
            "align_self": null,
            "height": null,
            "min_height": null,
            "padding": null,
            "grid_auto_rows": null,
            "grid_gap": null,
            "max_width": null,
            "order": null,
            "_view_module_version": "1.2.0",
            "grid_template_areas": null,
            "object_position": null,
            "object_fit": null,
            "grid_auto_columns": null,
            "margin": null,
            "display": null,
            "left": null
          }
        },
        "ce7d1a1d02f6427e804ca93f12a3a7c6": {
          "model_module": "@jupyter-widgets/controls",
          "model_name": "DescriptionStyleModel",
          "state": {
            "_view_name": "StyleView",
            "_model_name": "DescriptionStyleModel",
            "description_width": "",
            "_view_module": "@jupyter-widgets/base",
            "_model_module_version": "1.5.0",
            "_view_count": null,
            "_view_module_version": "1.2.0",
            "_model_module": "@jupyter-widgets/controls"
          }
        },
        "2c692992e9fb42898873e6bf33ad4d80": {
          "model_module": "@jupyter-widgets/base",
          "model_name": "LayoutModel",
          "state": {
            "_view_name": "LayoutView",
            "grid_template_rows": null,
            "right": null,
            "justify_content": null,
            "_view_module": "@jupyter-widgets/base",
            "overflow": null,
            "_model_module_version": "1.2.0",
            "_view_count": null,
            "flex_flow": null,
            "width": null,
            "min_width": null,
            "border": null,
            "align_items": null,
            "bottom": null,
            "_model_module": "@jupyter-widgets/base",
            "top": null,
            "grid_column": null,
            "overflow_y": null,
            "overflow_x": null,
            "grid_auto_flow": null,
            "grid_area": null,
            "grid_template_columns": null,
            "flex": null,
            "_model_name": "LayoutModel",
            "justify_items": null,
            "grid_row": null,
            "max_height": null,
            "align_content": null,
            "visibility": null,
            "align_self": null,
            "height": null,
            "min_height": null,
            "padding": null,
            "grid_auto_rows": null,
            "grid_gap": null,
            "max_width": null,
            "order": null,
            "_view_module_version": "1.2.0",
            "grid_template_areas": null,
            "object_position": null,
            "object_fit": null,
            "grid_auto_columns": null,
            "margin": null,
            "display": null,
            "left": null
          }
        }
      }
    }
  },
  "cells": [
    {
      "cell_type": "markdown",
      "metadata": {
        "id": "view-in-github",
        "colab_type": "text"
      },
      "source": [
        "<a href=\"https://colab.research.google.com/github/spaceofsilver/crawling/blob/main/2_%EB%8D%B0%EC%9D%B4%ED%84%B0_%EC%88%98%EC%A7%91_level3.ipynb\" target=\"_parent\"><img src=\"https://colab.research.google.com/assets/colab-badge.svg\" alt=\"Open In Colab\"/></a>"
      ]
    },
    {
      "cell_type": "markdown",
      "metadata": {
        "id": "nKxqy1HNa90-"
      },
      "source": [
        "# 조건\r\n",
        "\r\n",
        "- 수집하고자 하는 데이터가 웹사이트에 게시되어 있다\r\n",
        "- openAPI가 없다\r\n",
        "- 사이트에 접속만 하면 그냥 볼 수 있다\r\n",
        "  - 더보기, 로그인, 스크롤 등의 절차가 없다"
      ]
    },
    {
      "cell_type": "markdown",
      "metadata": {
        "id": "zmJYV3FDbqH9"
      },
      "source": [
        "## 사용되는 패키지\r\n",
        "\r\n",
        "- BeautifulSoup/bs4"
      ]
    },
    {
      "cell_type": "markdown",
      "metadata": {
        "id": "RHzyDLoPb_vv"
      },
      "source": [
        "## 대상 사이트\r\n",
        "\r\n",
        "- https://finance.naver.com/marketindex/?tabSel=exchange#tab_section"
      ]
    },
    {
      "cell_type": "markdown",
      "metadata": {
        "id": "PHSn9qmha93Y"
      },
      "source": [
        "# 간단한 사이트에서 수집"
      ]
    },
    {
      "cell_type": "code",
      "metadata": {
        "id": "jjr-y6YWa5b1"
      },
      "source": [
        "# 1.모듈 가져오기\r\n",
        "\r\n",
        "from bs4 import BeautifulSoup # 파싱할때 사용\r\n",
        "from urllib.request import urlopen"
      ],
      "execution_count": null,
      "outputs": []
    },
    {
      "cell_type": "code",
      "metadata": {
        "id": "qgF0D8dUbUzw"
      },
      "source": [
        "# 2. 타겟사이트 접속\r\n",
        "\r\n",
        "target_site   =  'https://finance.naver.com/marketindex/exchangeList.nhn'\r\n",
        "res           =   urlopen( target_site )  # res찍어도 객체라는 사실만 확인\r\n",
        "#  중요! 오픈하는순간 데이터 수집은 끝.\r\n",
        "#  즉 웹 스크래핑은 이걸로 끝\r\n",
        "#  밑에서부터는 파싱을 해서 돔트리를 띄운 후 객체 사이를 탐색하며 필요한 정보 수집."
      ],
      "execution_count": null,
      "outputs": []
    },
    {
      "cell_type": "code",
      "metadata": {
        "id": "fkcKxmjKbU3p",
        "colab": {
          "base_uri": "https://localhost:8080/"
        },
        "outputId": "d545813f-6831-425e-a9ce-4fb38e430f08"
      },
      "source": [
        "if res.getcode() == 200:\r\n",
        "  print('정상적으로 잘 받았다')\r\n",
        "else:\r\n",
        "  print('사이트에 뭔가 문제가 있다 점검 필요')"
      ],
      "execution_count": null,
      "outputs": [
        {
          "output_type": "stream",
          "text": [
            "정상적으로 잘 받았다\n"
          ],
          "name": "stdout"
        }
      ]
    },
    {
      "cell_type": "code",
      "metadata": {
        "id": "NO5uHOIqbU8l"
      },
      "source": [
        "# 3. 응답받은 데이터                  -> **HTML 데이터**( 반정형 데이터 )\r\n",
        "#   html 데이터를 파싱하는 모듈 필요  -> 원하는 데이터 추출 : bs4로 해결 가능\r\n",
        "#   파싱 수행을 하는 s/w              -> parser라고 한다.\r\n",
        "#   soup = BeautifulSoup( res, 파서의 종류)\r\n",
        "# BeautifulSoup은 ML로 대변되는 데이터 포멧을 파싱하는 대표 모듈\r\n",
        "#   Dom 트리를 구성했다.\r\n",
        "soup    = BeautifulSoup( res, \"html5lib\" )\r\n",
        "soup"
      ],
      "execution_count": null,
      "outputs": []
    },
    {
      "cell_type": "code",
      "metadata": {
        "id": "NE7mqg9ZbU-q"
      },
      "source": [
        "# 통화명 추출 : 1) 특정 2) 추출\r\n",
        "# css.selecctor: .tit\r\n",
        "# body > div > table > tbody > tr:nth-child(1) > td.tit > a -> td.tit > a 이렇게만으로도 특정 가능"
      ],
      "execution_count": null,
      "outputs": []
    },
    {
      "cell_type": "code",
      "metadata": {
        "colab": {
          "base_uri": "https://localhost:8080/"
        },
        "id": "7tXS9GEsg1eF",
        "outputId": "65ec724c-8ed9-42e0-9e14-578d755a9ef6"
      },
      "source": [
        "tmp = soup.select('.tit')\r\n",
        "# soup가 파싱을 한 결과는 DOM tree가 메모리에 올라가게 되고 \r\n",
        "# 엘리먼트(태그) <td></td> 이런 것들이 전부 다 객체로 표현되기 때문에\r\n",
        "# 그 이하를 내려갈 때는 .을 통해서 접근한다.\r\n",
        "type(tmp) , len(tmp)"
      ],
      "execution_count": null,
      "outputs": [
        {
          "output_type": "execute_result",
          "data": {
            "text/plain": [
              "(list, 44)"
            ]
          },
          "metadata": {
            "tags": []
          },
          "execution_count": 39
        }
      ]
    },
    {
      "cell_type": "code",
      "metadata": {
        "colab": {
          "base_uri": "https://localhost:8080/",
          "height": 35
        },
        "id": "9k9IeP2zhmpC",
        "outputId": "f799349d-def6-4d82-a354-196315a99cf1"
      },
      "source": [
        "tmp[0].a.string.strip()\r\n",
        "# select()      : 리스트로 추출\r\n",
        "# select_one()  : 객체로 추출"
      ],
      "execution_count": null,
      "outputs": [
        {
          "output_type": "execute_result",
          "data": {
            "application/vnd.google.colaboratory.intrinsic+json": {
              "type": "string"
            },
            "text/plain": [
              "'미국 USD'"
            ]
          },
          "metadata": {
            "tags": []
          },
          "execution_count": 46
        }
      ]
    },
    {
      "cell_type": "code",
      "metadata": {
        "id": "4gPN8teZge1H"
      },
      "source": [
        "for td in soup.select('.tit'):\r\n",
        "  print(td.a.string.strip())"
      ],
      "execution_count": null,
      "outputs": []
    },
    {
      "cell_type": "code",
      "metadata": {
        "id": "a8eupUvGge24"
      },
      "source": [
        "# 각 국가별 매매기준율을 추출\r\n",
        "for td in soup.select('.sale'):\r\n",
        "  print(td.string.replace(',', ''))"
      ],
      "execution_count": null,
      "outputs": []
    },
    {
      "cell_type": "markdown",
      "metadata": {
        "id": "9t2aVMFtzeo6"
      },
      "source": [
        "# 요구사항\r\n",
        "\r\n",
        "- 통화명, 매매기준율, 사실때, 파실 때\r\n",
        "- 통화코드까지 수집\r\n",
        "  - 이런 데이터를 추출하기 위해서 사이트의 html구조를 꼼꼼하게 체크하기\r\n",
        "  - 개발자 도구의 element파트에서 시뮬레이션 통해 특정한것이 정확한지 확인\r\n",
        "\r\n",
        "- 반복적으로 등장하는 데이터 rows, list형태(tr, li태그들로 나열된 형태)\r\n",
        "  - 이러한 데이터를 받게 될 땐, row데이터 단위로 수해야해야 누락없이 수집 가능\r\n",
        "  - 그래야 [{},{},{}]구조로 형성 가능"
      ]
    },
    {
      "cell_type": "code",
      "metadata": {
        "id": "y019cwwIxd3j"
      },
      "source": [
        "# (1) 통화정보를 가진 tr 44개를 수집하시오\\\r\n",
        "# 테이블 데이터는 행단위로 추출하는 것이 안전함."
      ],
      "execution_count": null,
      "outputs": []
    },
    {
      "cell_type": "code",
      "metadata": {
        "colab": {
          "base_uri": "https://localhost:8080/"
        },
        "id": "S0VE11391Qys",
        "outputId": "c14c3d8a-8b62-4b66-8c17-fc059a46a357"
      },
      "source": [
        "# div.tbl_area > table.tbl_exchange > tbody > tr\r\n",
        "tmp = soup.select('div.tbl_area > table.tbl_exchange > tbody > tr')\r\n",
        "len(tmp)"
      ],
      "execution_count": null,
      "outputs": [
        {
          "output_type": "execute_result",
          "data": {
            "text/plain": [
              "44"
            ]
          },
          "metadata": {
            "tags": []
          },
          "execution_count": 90
        }
      ]
    },
    {
      "cell_type": "markdown",
      "metadata": {
        "id": "t5Mh-Ybm_fqh"
      },
      "source": [
        "### 방법1"
      ]
    },
    {
      "cell_type": "code",
      "metadata": {
        "id": "i5zP0ixq3lQl"
      },
      "source": [
        "res= []\r\n",
        "for i in tmp:\r\n",
        "  currency      = i.a.string.strip()\r\n",
        "  code          = i.a.get('href')[-6:][:3]\r\n",
        "  # -> 해당 키가 존재하지 않아도 오류는 안 난다: None\r\n",
        "  # code          = i.a['href'][-6:][:3]\r\n",
        "  trade_std_rate= i.select_one('.sale').text\r\n",
        "  buy_curr      = i.select('td')[2].text\r\n",
        "  sell_curr     = i.select('td')[3].text\r\n",
        "  send_curr     = i.select('td')[4].text\r\n",
        "  take_curr     = i.select('td')[5].text\r\n",
        "  ex_to_dollar  = i.select('td')[6].text\r\n",
        "  # print( code )\r\n",
        "\r\n",
        "  dic = {'currency'     :currency,\r\n",
        "         'code'         :code,\r\n",
        "        'trade_std_rate':trade_std_rate,\r\n",
        "         'buy_curr'     :buy_curr,\r\n",
        "         'sell_curr'    :sell_curr,\r\n",
        "         'send_curr'    :send_curr,\r\n",
        "         'take_curr'    :take_curr,\r\n",
        "         'ex_to_dollar':ex_to_dollar}\r\n",
        "  res.append( dic )\r\n",
        "  pass"
      ],
      "execution_count": null,
      "outputs": []
    },
    {
      "cell_type": "markdown",
      "metadata": {
        "id": "YXkGRfUL_ics"
      },
      "source": [
        "### 방법2\r\n",
        "\r\n",
        "- nth-of-child 사용"
      ]
    },
    {
      "cell_type": "code",
      "metadata": {
        "id": "kK2_uDHi85c0"
      },
      "source": [
        "res= []\r\n",
        "for i in tmp:\r\n",
        "  currency      = i.a.string.strip()\r\n",
        "  code          = i.a.get('href')[-6:][:3]\r\n",
        "  # -> 해당 키가 존재하지 않아도 오류는 안 난다: None\r\n",
        "  trade_std_rate= i.select_one('.sale').text\r\n",
        "  # nth-of-child -> nth-of-type형태로 바꿔서 사용하기(중요)\r\n",
        "  buy_curr      = i.select_one('td:nth-of-type(3)').string\r\n",
        "  sell_curr     = i.select_one('td:nth-of-type(4)').string\r\n",
        "  send_curr     = i.select_one('td:nth-of-type(5)').string\r\n",
        "  take_curr     = i.select_one('td:nth-of-type(6)').string\r\n",
        "  ex_to_dollar  = i.select_one('td:nth-of-type(7)').string\r\n",
        "  # print( code )\r\n",
        "\r\n",
        "  dic = {'currency'     :currency,\r\n",
        "         'code'         :code,\r\n",
        "         'trade_std_rate':trade_std_rate,\r\n",
        "         'buy_curr'     :buy_curr,\r\n",
        "         'sell_curr'    :sell_curr,\r\n",
        "         'send_curr'    :send_curr,\r\n",
        "         'take_curr'    :take_curr,\r\n",
        "         'ex_to_dollar':ex_to_dollar}\r\n",
        "  res.append( dic )\r\n",
        "  pass\r\n",
        "# res"
      ],
      "execution_count": null,
      "outputs": []
    },
    {
      "cell_type": "markdown",
      "metadata": {
        "id": "NnpwljxPAcd1"
      },
      "source": [
        "### json저장\r\n",
        "\r\n",
        "- DB저장 가능\r\n",
        "- DB: RDBMS, No-Sql"
      ]
    },
    {
      "cell_type": "code",
      "metadata": {
        "id": "nNh0DF893lSw"
      },
      "source": [
        "import json"
      ],
      "execution_count": null,
      "outputs": []
    },
    {
      "cell_type": "code",
      "metadata": {
        "id": "QiVH7dNJ3lVj"
      },
      "source": [
        "# 저장\r\n",
        "with open('fx.json', mode='w') as fp:\r\n",
        "  json.dump( res, fp )"
      ],
      "execution_count": null,
      "outputs": []
    },
    {
      "cell_type": "code",
      "metadata": {
        "colab": {
          "base_uri": "https://localhost:8080/"
        },
        "id": "_iC5IQ843lYl",
        "outputId": "3e8d9c5b-2535-486e-ae3c-c13f334b901c"
      },
      "source": [
        "# 로드\r\n",
        "with open('fx.json', mode='r') as fp:\r\n",
        "  print( json.load( fp ) )\r\n",
        "  # [  { }, { }, { }, ... { } ]형태"
      ],
      "execution_count": null,
      "outputs": [
        {
          "output_type": "stream",
          "text": [
            "[{'currency': '미국 USD', 'code': 'USD', 'trade_std_rate': '1,086.70', 'buy_curr': '1,105.71', 'sell_curr': '1,067.69', 'send_curr': '1,097.30', 'take_curr': '1,076.10', 'ex_to_dollar': '1.000'}, {'currency': '유럽연합 EUR', 'code': 'EUR', 'trade_std_rate': '1,313.66', 'buy_curr': '1,339.80', 'sell_curr': '1,287.52', 'send_curr': '1,326.79', 'take_curr': '1,300.53', 'ex_to_dollar': '1.209'}, {'currency': '일본 JPY (100엔)', 'code': 'JPY', 'trade_std_rate': '1,041.25', 'buy_curr': '1,059.47', 'sell_curr': '1,023.03', 'send_curr': '1,051.45', 'take_curr': '1,031.05', 'ex_to_dollar': '0.958'}, {'currency': '중국 CNY', 'code': 'CNY', 'trade_std_rate': '166.46', 'buy_curr': '174.78', 'sell_curr': '158.14', 'send_curr': '168.12', 'take_curr': '164.80', 'ex_to_dollar': '0.153'}, {'currency': '홍콩 HKD', 'code': 'HKD', 'trade_std_rate': '140.19', 'buy_curr': '142.95', 'sell_curr': '137.43', 'send_curr': '141.59', 'take_curr': '138.79', 'ex_to_dollar': '0.129'}, {'currency': '대만 TWD', 'code': 'TWD', 'trade_std_rate': '38.49', 'buy_curr': '43.53', 'sell_curr': '35.80', 'send_curr': '0.00', 'take_curr': '0.00', 'ex_to_dollar': '0.035'}, {'currency': '영국 GBP', 'code': 'GBP', 'trade_std_rate': '1,452.16', 'buy_curr': '1,480.76', 'sell_curr': '1,423.56', 'send_curr': '1,466.68', 'take_curr': '1,437.64', 'ex_to_dollar': '1.336'}, {'currency': '오만 OMR', 'code': 'OMR', 'trade_std_rate': '2,822.52', 'buy_curr': '3,073.72', 'sell_curr': '2,653.17', 'send_curr': '0.00', 'take_curr': '0.00', 'ex_to_dollar': '2.597'}, {'currency': '캐나다 CAD', 'code': 'CAD', 'trade_std_rate': '848.45', 'buy_curr': '865.16', 'sell_curr': '831.74', 'send_curr': '856.93', 'take_curr': '839.97', 'ex_to_dollar': '0.781'}, {'currency': '스위스 CHF', 'code': 'CHF', 'trade_std_rate': '1,222.18', 'buy_curr': '1,246.25', 'sell_curr': '1,198.11', 'send_curr': '1,234.40', 'take_curr': '1,209.96', 'ex_to_dollar': '1.125'}, {'currency': '스웨덴 SEK', 'code': 'SEK', 'trade_std_rate': '128.19', 'buy_curr': '131.33', 'sell_curr': '125.05', 'send_curr': '129.47', 'take_curr': '126.91', 'ex_to_dollar': '0.118'}, {'currency': '호주 AUD', 'code': 'AUD', 'trade_std_rate': '810.73', 'buy_curr': '826.70', 'sell_curr': '794.76', 'send_curr': '818.83', 'take_curr': '802.63', 'ex_to_dollar': '0.746'}, {'currency': '뉴질랜드 NZD', 'code': 'NZD', 'trade_std_rate': '763.30', 'buy_curr': '778.33', 'sell_curr': '748.27', 'send_curr': '770.93', 'take_curr': '755.67', 'ex_to_dollar': '0.702'}, {'currency': '체코 CZK', 'code': 'CZK', 'trade_std_rate': '50.01', 'buy_curr': '54.26', 'sell_curr': '45.51', 'send_curr': '50.56', 'take_curr': '49.46', 'ex_to_dollar': '0.046'}, {'currency': '칠레 CLP', 'code': 'CLP', 'trade_std_rate': '1.46', 'buy_curr': '1.57', 'sell_curr': '1.35', 'send_curr': '0.00', 'take_curr': '0.00', 'ex_to_dollar': '0.001'}, {'currency': '터키 TRY', 'code': 'TRY', 'trade_std_rate': '138.82', 'buy_curr': '0.00', 'sell_curr': '0.00', 'send_curr': '140.34', 'take_curr': '137.30', 'ex_to_dollar': '0.128'}, {'currency': '몽골 MNT', 'code': 'MNT', 'trade_std_rate': '0.38', 'buy_curr': '0.00', 'sell_curr': '0.00', 'send_curr': '0.00', 'take_curr': '0.00', 'ex_to_dollar': '0.000'}, {'currency': '이스라엘 ILS', 'code': 'ILS', 'trade_std_rate': '334.39', 'buy_curr': '367.82', 'sell_curr': '307.64', 'send_curr': '0.00', 'take_curr': '0.00', 'ex_to_dollar': '0.308'}, {'currency': '덴마크 DKK', 'code': 'DKK', 'trade_std_rate': '176.48', 'buy_curr': '180.80', 'sell_curr': '172.16', 'send_curr': '178.24', 'take_curr': '174.72', 'ex_to_dollar': '0.162'}, {'currency': '노르웨이 NOK', 'code': 'NOK', 'trade_std_rate': '123.19', 'buy_curr': '126.20', 'sell_curr': '120.18', 'send_curr': '124.42', 'take_curr': '121.96', 'ex_to_dollar': '0.113'}, {'currency': '사우디아라비아 SAR', 'code': 'SAR', 'trade_std_rate': '289.68', 'buy_curr': '307.92', 'sell_curr': '269.70', 'send_curr': '292.57', 'take_curr': '286.79', 'ex_to_dollar': '0.267'}, {'currency': '쿠웨이트 KWD', 'code': 'KWD', 'trade_std_rate': '3,563.54', 'buy_curr': '3,795.17', 'sell_curr': '3,278.46', 'send_curr': '3,599.17', 'take_curr': '3,527.91', 'ex_to_dollar': '3.279'}, {'currency': '바레인 BHD', 'code': 'BHD', 'trade_std_rate': '2,882.03', 'buy_curr': '3,066.47', 'sell_curr': '2,651.47', 'send_curr': '2,910.85', 'take_curr': '2,853.21', 'ex_to_dollar': '2.652'}, {'currency': '아랍에미리트 AED', 'code': 'AED', 'trade_std_rate': '295.85', 'buy_curr': '312.12', 'sell_curr': '275.44', 'send_curr': '298.80', 'take_curr': '292.90', 'ex_to_dollar': '0.272'}, {'currency': '요르단 JOD', 'code': 'JOD', 'trade_std_rate': '1,532.72', 'buy_curr': '1,669.13', 'sell_curr': '1,410.11', 'send_curr': '0.00', 'take_curr': '0.00', 'ex_to_dollar': '1.410'}, {'currency': '이집트 EGP', 'code': 'EGP', 'trade_std_rate': '69.26', 'buy_curr': '0.00', 'sell_curr': '0.00', 'send_curr': '0.00', 'take_curr': '0.00', 'ex_to_dollar': '0.064'}, {'currency': '태국 THB', 'code': 'THB', 'trade_std_rate': '36.15', 'buy_curr': '37.95', 'sell_curr': '33.99', 'send_curr': '36.51', 'take_curr': '35.79', 'ex_to_dollar': '0.033'}, {'currency': '싱가포르 SGD', 'code': 'SGD', 'trade_std_rate': '812.76', 'buy_curr': '828.93', 'sell_curr': '796.59', 'send_curr': '820.88', 'take_curr': '804.64', 'ex_to_dollar': '0.748'}, {'currency': '말레이시아 MYR', 'code': 'MYR', 'trade_std_rate': '267.50', 'buy_curr': '284.35', 'sell_curr': '247.71', 'send_curr': '0.00', 'take_curr': '264.83', 'ex_to_dollar': '0.246'}, {'currency': '인도네시아 IDR 100', 'code': 'IDR', 'trade_std_rate': '7.72', 'buy_curr': '8.26', 'sell_curr': '6.95', 'send_curr': '7.79', 'take_curr': '7.65', 'ex_to_dollar': '0.007'}, {'currency': '카타르 QAR', 'code': 'QAR', 'trade_std_rate': '298.40', 'buy_curr': '0.00', 'sell_curr': '0.00', 'send_curr': '0.00', 'take_curr': '0.00', 'ex_to_dollar': '0.275'}, {'currency': '카자흐스탄 KZT', 'code': 'KZT', 'trade_std_rate': '2.59', 'buy_curr': '0.00', 'sell_curr': '0.00', 'send_curr': '0.00', 'take_curr': '0.00', 'ex_to_dollar': '0.002'}, {'currency': '브루나이 BND', 'code': 'BND', 'trade_std_rate': '812.76', 'buy_curr': '845.27', 'sell_curr': '764.00', 'send_curr': '0.00', 'take_curr': '0.00', 'ex_to_dollar': '0.748'}, {'currency': '인도 INR', 'code': 'INR', 'trade_std_rate': '14.74', 'buy_curr': '0.00', 'sell_curr': '0.00', 'send_curr': '0.00', 'take_curr': '0.00', 'ex_to_dollar': '0.014'}, {'currency': '파키스탄 PKR', 'code': 'PKR', 'trade_std_rate': '6.77', 'buy_curr': '0.00', 'sell_curr': '0.00', 'send_curr': '0.00', 'take_curr': '0.00', 'ex_to_dollar': '0.006'}, {'currency': '방글라데시 BDT', 'code': 'BDT', 'trade_std_rate': '12.83', 'buy_curr': '0.00', 'sell_curr': '0.00', 'send_curr': '0.00', 'take_curr': '0.00', 'ex_to_dollar': '0.012'}, {'currency': '필리핀 PHP', 'code': 'PHP', 'trade_std_rate': '22.60', 'buy_curr': '24.86', 'sell_curr': '20.75', 'send_curr': '22.82', 'take_curr': '22.38', 'ex_to_dollar': '0.021'}, {'currency': '멕시코 MXN', 'code': 'MXN', 'trade_std_rate': '54.79', 'buy_curr': '60.26', 'sell_curr': '50.19', 'send_curr': '55.33', 'take_curr': '54.25', 'ex_to_dollar': '0.050'}, {'currency': '브라질 BRL', 'code': 'BRL', 'trade_std_rate': '210.15', 'buy_curr': '231.58', 'sell_curr': '193.34', 'send_curr': '0.00', 'take_curr': '207.63', 'ex_to_dollar': '0.193'}, {'currency': '베트남 VND 100', 'code': 'VND', 'trade_std_rate': '4.70', 'buy_curr': '5.25', 'sell_curr': '4.15', 'send_curr': '4.74', 'take_curr': '4.66', 'ex_to_dollar': '0.004'}, {'currency': '남아프리카 공화국 ZAR', 'code': 'ZAR', 'trade_std_rate': '72.74', 'buy_curr': '77.10', 'sell_curr': '66.93', 'send_curr': '73.61', 'take_curr': '71.87', 'ex_to_dollar': '0.067'}, {'currency': '러시아 RUB', 'code': 'RUB', 'trade_std_rate': '14.72', 'buy_curr': '15.75', 'sell_curr': '13.11', 'send_curr': '14.86', 'take_curr': '14.58', 'ex_to_dollar': '0.014'}, {'currency': '헝가리 HUF', 'code': 'HUF', 'trade_std_rate': '3.69', 'buy_curr': '4.03', 'sell_curr': '3.40', 'send_curr': '3.73', 'take_curr': '3.65', 'ex_to_dollar': '0.003'}, {'currency': '폴란드 PLN', 'code': 'PLN', 'trade_std_rate': '296.71', 'buy_curr': '320.44', 'sell_curr': '272.98', 'send_curr': '299.97', 'take_curr': '293.45', 'ex_to_dollar': '0.273'}]\n"
          ],
          "name": "stdout"
        }
      ]
    },
    {
      "cell_type": "code",
      "metadata": {
        "colab": {
          "base_uri": "https://localhost:8080/",
          "height": 35
        },
        "id": "vjZMQCRC3lab",
        "outputId": "24c75809-cf13-432d-bc29-5ca3c01e8009"
      },
      "source": [
        "# 실습: 2020.12.10 13:22 하나은행 기준 고시회차 105회\r\n",
        "# 이중 날짜+시간, 기관명, 회차 추출\r\n",
        "\r\n",
        "# 웹스크래핑+html파싱(dom트리 생성)\r\n",
        "url   = 'https://finance.naver.com/marketindex/?tabSel=exchange#tab_section'\r\n",
        "res   =   urlopen( url )\r\n",
        "\r\n",
        "soup  = BeautifulSoup( res,\"html5lib\" )\r\n",
        "\r\n",
        "date      = soup.select_one('.exchange_info > span.date').text\r\n",
        "standard  = soup.select_one('.exchange_info > span.standard').text.split()[0]\r\n",
        "round     = soup.select_one('.exchange_info > span.round').text\r\n",
        "num       = soup.select_one('.exchange_info > span > em').text"
      ],
      "execution_count": null,
      "outputs": [
        {
          "output_type": "execute_result",
          "data": {
            "application/vnd.google.colaboratory.intrinsic+json": {
              "type": "string"
            },
            "text/plain": [
              "'2020.12.10 14:19'"
            ]
          },
          "metadata": {
            "tags": []
          },
          "execution_count": 196
        }
      ]
    },
    {
      "cell_type": "markdown",
      "metadata": {
        "id": "6GQs5XnQGFm-"
      },
      "source": [
        "- 회차 정보는 1개\r\n",
        "- 1개 회자당 통화정보는 44개 존재\r\n",
        "- 저장정보 방식 고민\r\n",
        "  - 44개의 데이터에 회자정보를 다 붙여 저장? ( 1개의 테이블 사용, 중복 데이터 많아짐)\r\n",
        "  - 회자 정보를 저장하는 테이블에 먼저 저장하고 여기서 나오는 인덱스 값을 이용해서 개별 44개 데이터에 추가하여 저장? \r\n",
        "  - -> join을 통해데이터 추출\r\n"
      ]
    },
    {
      "cell_type": "markdown",
      "metadata": {
        "id": "HzMfhVSNa95Q"
      },
      "source": [
        "# 바이너리 파일을 다운받아 수집\r\n",
        "\r\n",
        "- 바이너리 파일: 압축파일\r\n",
        "- 압축을 해제해야함\r\n",
        "\r\n",
        "- 응용\r\n",
        "  - 웹상에서 이미지 수집도 가능하다!\r\n",
        "- 목적\r\n",
        "  - http://yann.lecun.com/exdb/mnist/ 접속\r\n",
        "  - 데이터 4개를 다운로드\r\n",
        "    - train-images-idx3-ubyte.gz:  training set images (9912422 bytes)\r\n",
        "    - train-labels-idx1-ubyte.gz:  training set labels (28881 bytes)\r\n",
        "    - t10k-images-idx3-ubyte.gz:   test set images (1648877 bytes)\r\n",
        "    - t10k-labels-idx1-ubyte.gz:   test set labels (4542 bytes)\r\n",
        "  - 압축해제\r\n",
        "  - 디코딩 수행\r\n",
        "  - 원하는 데이터를 추출 및 저장"
      ]
    },
    {
      "cell_type": "code",
      "metadata": {
        "id": "uSFIWhz_Go1m"
      },
      "source": [
        "# 1. 타겟 사이트  -> mnist(머신러닝시 1차적으로 사용하는 데이터 -> 마치 r의 iris)"
      ],
      "execution_count": null,
      "outputs": []
    },
    {
      "cell_type": "code",
      "metadata": {
        "colab": {
          "base_uri": "https://localhost:8080/"
        },
        "id": "iyaexxqCGo3b",
        "outputId": "f2a2552d-9fb5-4377-b2ae-1b1c8fd05596"
      },
      "source": [
        "target_site   =  'http://yann.lecun.com/exdb/mnist/'\r\n",
        "res           =   urlopen( target_site ) \r\n",
        "if res.getcode() == 200:\r\n",
        "  print('정상적으로 잘 받았다')\r\n",
        "else:\r\n",
        "  print('사이트에 뭔가 문제가 있다 점검 필요')\r\n",
        "# 웹스크래핑:soup까지 생성\r\n",
        "soup    = BeautifulSoup( res, \"html5lib\" )"
      ],
      "execution_count": null,
      "outputs": [
        {
          "output_type": "stream",
          "text": [
            "정상적으로 잘 받았다\n"
          ],
          "name": "stdout"
        }
      ]
    },
    {
      "cell_type": "code",
      "metadata": {
        "colab": {
          "base_uri": "https://localhost:8080/"
        },
        "id": "zV-aC8sjGo92",
        "outputId": "ff83b0c3-e1be-4d68-95f5-eb897b85c2d1"
      },
      "source": [
        "link = []\r\n",
        "for i in soup.select('p > tt > a'):\r\n",
        "  link.append(i.text)\r\n",
        "link"
      ],
      "execution_count": null,
      "outputs": [
        {
          "output_type": "execute_result",
          "data": {
            "text/plain": [
              "['train-images-idx3-ubyte.gz',\n",
              " 'train-labels-idx1-ubyte.gz',\n",
              " 't10k-images-idx3-ubyte.gz',\n",
              " 't10k-labels-idx1-ubyte.gz']"
            ]
          },
          "metadata": {
            "tags": []
          },
          "execution_count": 7
        }
      ]
    },
    {
      "cell_type": "code",
      "metadata": {
        "id": "13XVeBThbfYw",
        "colab": {
          "base_uri": "https://localhost:8080/"
        },
        "outputId": "472f0b03-0672-4b90-ebdc-d1d99aed196d"
      },
      "source": [
        "# 'http://yann.lecun.com/exdb/mnist/' 주소에 각 파일명 넣으면 바로 다운로드 가능\r\n",
        "down_link =[]\r\n",
        "for i in link:\r\n",
        "  down_link.append( target_site + i )\r\n",
        "down_link"
      ],
      "execution_count": null,
      "outputs": [
        {
          "output_type": "execute_result",
          "data": {
            "text/plain": [
              "['http://yann.lecun.com/exdb/mnist/train-images-idx3-ubyte.gz',\n",
              " 'http://yann.lecun.com/exdb/mnist/train-labels-idx1-ubyte.gz',\n",
              " 'http://yann.lecun.com/exdb/mnist/t10k-images-idx3-ubyte.gz',\n",
              " 'http://yann.lecun.com/exdb/mnist/t10k-labels-idx1-ubyte.gz']"
            ]
          },
          "metadata": {
            "tags": []
          },
          "execution_count": 8
        }
      ]
    },
    {
      "cell_type": "code",
      "metadata": {
        "colab": {
          "base_uri": "https://localhost:8080/"
        },
        "id": "BgsjnV0lLl_c",
        "outputId": "4d7bcc3c-4f23-47d5-ef5c-54a31f0475da"
      },
      "source": [
        "len( soup.select('tt') )"
      ],
      "execution_count": null,
      "outputs": [
        {
          "output_type": "execute_result",
          "data": {
            "text/plain": [
              "49"
            ]
          },
          "metadata": {
            "tags": []
          },
          "execution_count": 217
        }
      ]
    },
    {
      "cell_type": "code",
      "metadata": {
        "colab": {
          "base_uri": "https://localhost:8080/"
        },
        "id": "01_kpW6wM1Dn",
        "outputId": "540d3473-27e4-4c61-e130-014d401601c1"
      },
      "source": [
        "# 슬라이싱을 통해 상위 4개 tt만 출력해볼수도 있다.\r\n",
        "\r\n",
        "# for i in soup.select('tt')[:4]:\r\n",
        "#   print(i.a.string)\r\n",
        "\r\n",
        "# 리스트 내포도 가능하다.\r\n",
        "files  = [tt.a.string for tt in soup.select('tt')[:4] ]\r\n",
        "files"
      ],
      "execution_count": null,
      "outputs": [
        {
          "output_type": "execute_result",
          "data": {
            "text/plain": [
              "['train-images-idx3-ubyte.gz',\n",
              " 'train-labels-idx1-ubyte.gz',\n",
              " 't10k-images-idx3-ubyte.gz',\n",
              " 't10k-labels-idx1-ubyte.gz']"
            ]
          },
          "metadata": {
            "tags": []
          },
          "execution_count": 9
        }
      ]
    },
    {
      "cell_type": "code",
      "metadata": {
        "id": "530bwlDvM52Z"
      },
      "source": [
        "# 4. 파일 다운로드\r\n",
        "# 원격지에 있는 파일과, 로컬상에 특정 위치(저장할 파일)까지 스크림을 열고 \r\n",
        "# 읽어서 바로 기록    -> 운영체계가 하는 일을 프로그램으로\r\n",
        "\r\n",
        "# 파일 저장에 필요한 팝업이 생략, 원하는 위치에 바로 저장( 스크래핑의 핵심 !!!!!!!!!! )\r\n",
        "import os, os.path"
      ],
      "execution_count": null,
      "outputs": []
    },
    {
      "cell_type": "code",
      "metadata": {
        "colab": {
          "base_uri": "https://localhost:8080/"
        },
        "id": "TWuIrcLGODR6",
        "outputId": "f71a8017-0197-45de-d3aa-27ecae82dbd0"
      },
      "source": [
        "# 4-1. 저장할 파일 위치 선정\r\n",
        "savedPath   = './data/mnist'\r\n",
        "# 물리적으로 존재하지 않으면 폴더 생성\r\n",
        "if not os.path.exists( savedPath ):\r\n",
        "  # 디렉토리 생성\r\n",
        "  os.makedirs( savedPath )\r\n",
        "  print('다운로드 파일을 저장한 파일 폴더를 생성했다.')\r\n",
        "else:\r\n",
        "  pass"
      ],
      "execution_count": null,
      "outputs": [
        {
          "output_type": "stream",
          "text": [
            "다운로드 파일을 저장한 파일 폴더를 생성했다.\n"
          ],
          "name": "stdout"
        }
      ]
    },
    {
      "cell_type": "code",
      "metadata": {
        "id": "oUd6ei5rOyEu"
      },
      "source": [
        "# 4-2. 파일 저장\r\n",
        "# 진행률을 표시\r\n",
        "import tqdm.notebook\r\n",
        "# level2의 방법을 사용하여 해당 파일을 직접 요청한다.\r\n",
        "import urllib.request as req"
      ],
      "execution_count": null,
      "outputs": []
    },
    {
      "cell_type": "code",
      "metadata": {
        "colab": {
          "base_uri": "https://localhost:8080/",
          "height": 49,
          "referenced_widgets": [
            "4d200244b9db4d9da9dd90c4a068319f",
            "3004fac1031d47d69b3e6fb463e49cfd",
            "84aad208ab6e4e608f5fe3e2c2779e37",
            "aa4822d298dc4a17bc72641d9e0dc665",
            "55c087ae46974b8da791b9b2cba1af21",
            "871cfe111dc14817861ada0201d35c2e",
            "bb340a5b50ac4705b4d4d06357700828",
            "47d5ae3c4cc648188be5436dd7d41b95"
          ]
        },
        "id": "USoTcCDiPMdB",
        "outputId": "14a35f78-6f07-4b12-f27d-66ddac89ed07"
      },
      "source": [
        "#  tqdm.notebook.tqdm(연속 데이터 타입)   <- 진행률이 표기된다~~~~~~\r\n",
        "for file in tqdm.notebook.tqdm(files):\r\n",
        "  # print(file)\r\n",
        "  # 파일 저장\r\n",
        "  # 만약 해당 파일이 이미 존재한다면 생략한다.\r\n",
        "  # 파일의 물리적 위치\r\n",
        "  # file_path    = f'{savedPath}/{file}'  <- 이 방식도 가능하다.\r\n",
        "  os.path.join( savedPath, file )       \r\n",
        "  #  물리적 경로를 동적으로 만들고 싶다면 위의 방식 사용.\r\n",
        "  break\r\n",
        "  pass"
      ],
      "execution_count": null,
      "outputs": [
        {
          "output_type": "display_data",
          "data": {
            "application/vnd.jupyter.widget-view+json": {
              "model_id": "4d200244b9db4d9da9dd90c4a068319f",
              "version_minor": 0,
              "version_major": 2
            },
            "text/plain": [
              "HBox(children=(FloatProgress(value=0.0, max=4.0), HTML(value='')))"
            ]
          },
          "metadata": {
            "tags": []
          }
        }
      ]
    },
    {
      "cell_type": "code",
      "metadata": {
        "colab": {
          "base_uri": "https://localhost:8080/",
          "height": 84,
          "referenced_widgets": [
            "8b07e8b3158a4d738db8afbf1fb90991",
            "13886d1b48f947bab5b3b226a7531224",
            "0e7de5cc2201435aaa16fc17a27369d5",
            "935fb3525eff4af9b2dbb6d07f3ea3d8",
            "31fe3f3a3e124c3588d31d97784784fd",
            "f8b32ea4957e4de094b3cdc4083b17a0",
            "3edfdc5d3f684189be8005247ba5e1a6",
            "e70029fb3b184f70a9d245dfc6af381c"
          ]
        },
        "id": "4QN-7rlbPrCO",
        "outputId": "9c2aebdb-68eb-4eb2-80d3-8b60be3ac0f1"
      },
      "source": [
        "for file in tqdm.notebook.tqdm(files):\r\n",
        "  path  = os.path.join( savedPath, file )       \r\n",
        "  # 체킹: 이미 파일이 존재하면 수행 안 함\r\n",
        "  if not os.path.exists( path ):\r\n",
        "    # 파일 저장\r\n",
        "    # 파일을 조금씩 읽어서 로컬 파일에 차곡차곡 기록한다. \r\n",
        "    # tcp/ip 기반의 http를 사용하므로 모든 패킷은 \"순서대로\" \"손실없이\" 파일에 저장됨  -> 신뢰를 기반\r\n",
        "    req.urlretrieve( target_site+file, path)\r\n",
        "\r\n",
        "# url만 알면 웹페이지에 있는 모든 파일을 불러올 수 있다!!\r\n",
        "# colab에서 파일은 인스턴스. 끝나면 사라짐."
      ],
      "execution_count": null,
      "outputs": [
        {
          "output_type": "stream",
          "text": [
            "\n"
          ],
          "name": "stdout"
        },
        {
          "output_type": "display_data",
          "data": {
            "application/vnd.jupyter.widget-view+json": {
              "model_id": "8b07e8b3158a4d738db8afbf1fb90991",
              "version_minor": 0,
              "version_major": 2
            },
            "text/plain": [
              "HBox(children=(FloatProgress(value=0.0, max=4.0), HTML(value='')))"
            ]
          },
          "metadata": {
            "tags": []
          }
        },
        {
          "output_type": "stream",
          "text": [
            "\n"
          ],
          "name": "stdout"
        }
      ]
    },
    {
      "cell_type": "markdown",
      "metadata": {
        "id": "ZLK9zY2gSVGY"
      },
      "source": [
        "## 압축 데이터 해제\r\n",
        "\r\n",
        "- 확장자: gz파일\r\n",
        "  - gzip 모듈을 활용"
      ]
    },
    {
      "cell_type": "code",
      "metadata": {
        "id": "PLNq7iyVP7_F"
      },
      "source": [
        "import gzip"
      ],
      "execution_count": null,
      "outputs": []
    },
    {
      "cell_type": "code",
      "metadata": {
        "colab": {
          "base_uri": "https://localhost:8080/",
          "height": 66,
          "referenced_widgets": [
            "5503f7ec7ae440f183a06865436cc26c",
            "b2efcfb3fd1b4f8f95d9423fe7400235",
            "271db95fdc94464ab9d0fcd66d2626af",
            "62f59a6ac3204c949d3a53cc49621473",
            "bf4bbe05c25f48d49406fc9217461fcd",
            "fa9a4cc887a744fa9f437e96f39569b1",
            "ce7d1a1d02f6427e804ca93f12a3a7c6",
            "2c692992e9fb42898873e6bf33ad4d80"
          ]
        },
        "id": "k03QIfYRP8BP",
        "outputId": "ec42d52d-024c-4221-89f7-cebf9d6a0e0d"
      },
      "source": [
        "# 압축 푸는 것도 진행률 봐야하니까\r\n",
        "for file in tqdm.notebook.tqdm(files):\r\n",
        "  # 원본 파일 경로  -> 풀어서 어딘가에는 저장을 해야하기 때문\r\n",
        "  path  = os.path.join( savedPath, file )\r\n",
        "  # 대상 파일 경로:  .gz를 제거해서 파일명 생성\r\n",
        "  rowFile_path  = os.path.join( savedPath, file[:-3] )\r\n",
        "  # 압축파일 오픈   ->  \"읽기\"(용량이 크면 나눠서 읽어야, 작으면 한번에)  ->  \"기록\"\r\n",
        "  with gzip.open( path, mode='rb') as fg:\r\n",
        "    # 읽기 : 용량이 적어서 한번에 읽을 것. 압축이 해제된 내용으로 읽힌다.\r\n",
        "    tmp   = fg.read()\r\n",
        "    # 쓰기 : 파일 오픈\r\n",
        "    with open(rowFile_path, 'wb' ) as f:\r\n",
        "      # 기록\r\n",
        "      f.write( tmp ) \r\n",
        "      # 압축 내용이 풀려서 저장\r\n",
        "  # print(rowFile_path)\r\n",
        "  "
      ],
      "execution_count": null,
      "outputs": [
        {
          "output_type": "display_data",
          "data": {
            "application/vnd.jupyter.widget-view+json": {
              "model_id": "5503f7ec7ae440f183a06865436cc26c",
              "version_minor": 0,
              "version_major": 2
            },
            "text/plain": [
              "HBox(children=(FloatProgress(value=0.0, max=4.0), HTML(value='')))"
            ]
          },
          "metadata": {
            "tags": []
          }
        },
        {
          "output_type": "stream",
          "text": [
            "\n"
          ],
          "name": "stdout"
        }
      ]
    },
    {
      "cell_type": "markdown",
      "metadata": {
        "id": "ZXRtzdjDU_pv"
      },
      "source": [
        "## 데이터 디코딩"
      ]
    },
    {
      "cell_type": "markdown",
      "metadata": {
        "id": "IzzrWES0Ndad"
      },
      "source": [
        "- mnist에서 손글씨 인식에 대한 데이터를 제공\r\n",
        "  - 훈련용 데이터 6만개, 테스트용 데이터가 1만개\r\n",
        "  - 압축해서 제공 -> 6만개를 압축한게 아니라 하나의 파일로 만들어서 압축한 후 제공\r\n",
        "  - 1개의 파일을 만들려면, 나름대로 파일 구조가 필요\r\n",
        "  - 이런 구조에 맞춰져서 파일이 만들어지면 인코딩(자체 포멧)\r\n",
        "  - 인코딩된 파일을 6만개의 개별 파일로 분리하려면 구조(포멧)를 알고 디코딩을 수행해야함"
      ]
    },
    {
      "cell_type": "markdown",
      "metadata": {
        "id": "bFjfEoRNOQCR"
      },
      "source": [
        "- 포멧\r\n",
        "  - 포멧을 이해해야 전략을 수립할 수 있다.\r\n",
        "  - 8 bit -> 1 bit\r\n",
        "  - 1 bit -> 0과 1을 값으로 가질 수 있다.\r\n",
        "  - 메모리를 비트 단위로 구성\r\n",
        "  - TRAINING SET LABEL FILE\r\n",
        "    - 0번 위치부터 출발, 32 bit(4 byte) int,  magic number(표식=2049)\r\n",
        "    - 4번위치, 4 byte int :  item의 개수( LABEL = 정답 = 종속변수 = Class , 손글씨 0,1,2,3, ...) \r\n",
        "    - 5번부터 끝까지 단위는 1 byte 단위: 1 unsigned byte( 부호가 없는 양수 ), 값은 0~9 사이의 어떤값.\r\n",
        "    - 데이터의 전체 크기는 \r\n",
        "      - train : (4  + 4  + 1*60,000) byte\r\n",
        "      - test  : (4  + 4  + 1*10,000) byte\r\n",
        "      "
      ]
    },
    {
      "cell_type": "markdown",
      "metadata": {
        "id": "mwZkbHRXQl-x"
      },
      "source": [
        "- TRAINING SET IMAGE FILE\r\n",
        "  - 0번 위치부터 출발, 32 bit(4 byte) int, magic number(표식=2051)\r\n",
        "  - 4번위치, 4 byte int : 이미지의 개수( 독립변수 = Feature, 특성, 손글씨 이미지의 개수 )\r\n",
        "  - 8번 위치  : 4 byte int, 이미지의 rows\r\n",
        "  - 12번 위치 : 4 byte int, 이미지의 cols\r\n",
        "  - 16번부터 끝까지 : 1 unsigned byte( 0 ~ 255의 컬러값을 표현 ) , pixel\r\n",
        "  - 데이터의 전체 크기\r\n",
        "    - train : 4 + 4 + 4 + 4 + (rowsxcols)(이게 이미지 하나) x 60000(이미지 개수)\r\n",
        "    - test  : 4 + 4 + 4 + 4 + (rowsxcols)(이게 이미지 하나) x 10000(이미지 개수)\r\n",
        "  - 이미지는 사각형의 모습을 가짐( 2d 이미지 )\r\n",
        "    - 가로, 세로의 정보 ( 세로: rows, 가로: cols )"
      ]
    },
    {
      "cell_type": "markdown",
      "metadata": {
        "id": "RFPFB8yAVBGF"
      },
      "source": [
        "## 데이터 추출해서 파일 저장\r\n",
        "\r\n",
        "- pgm(샘플저장), csv에 저장(픽셀정보)|"
      ]
    },
    {
      "cell_type": "code",
      "metadata": {
        "id": "kSW31-ooV__D"
      },
      "source": [
        "# 바이너리 데이터 (정수부분) 읽을 때 사용하는 모듈\r\n",
        "import struct"
      ],
      "execution_count": null,
      "outputs": []
    },
    {
      "cell_type": "markdown",
      "metadata": {
        "id": "P9CqK_98WJZv"
      },
      "source": [
        "- os별, cpu 벤더별(인텍, AMD, Apple) 정수값을 기록하는 방식이 다름(2, 4, 8, ...)\r\n",
        "  - 에디안 방식이 빅에디안, 리틀에디안으로 나뉜다.\r\n",
        "    - ex) 0x12345678 : 16진법, 0xFF = 255\r\n",
        "      \r\n",
        "      \r\n"
      ]
    },
    {
      "cell_type": "markdown",
      "metadata": {
        "id": "SnV51uRIWz8h"
      },
      "source": [
        "- 빅에디안으로 메모리에 기록을 한다면?\r\n",
        "- high endian\r\n",
        "\r\n",
        "|주소|0x001|0x002|0x003|0x004|\r\n",
        "|--|--|--|--|--|\r\n",
        "|값|0x12|0x34|10x56|0x78|"
      ]
    },
    {
      "cell_type": "markdown",
      "metadata": {
        "id": "24YTJ19dXZpV"
      },
      "source": [
        "- 리틀에디안으로 메모리에 기록을 한다면?\r\n",
        "- low-endian\r\n",
        "\r\n",
        "|주소|0x001|0x002|0x003|0x004|\r\n",
        "|--|--|--|--|--|\r\n",
        "|값|0x78|0x56|0x34|0x12|"
      ]
    },
    {
      "cell_type": "markdown",
      "metadata": {
        "id": "u-0ebbu8X5sA"
      },
      "source": [
        "- 본 파일은 high endian으로 기록 됨\r\n",
        "- struct는 \r\n",
        "  - '>' : 빅에디안\r\n",
        "  - '<' : 리틀 에디안\r\n",
        "  - 'I' : 4 byte 읽는다"
      ]
    },
    {
      "cell_type": "code",
      "metadata": {
        "colab": {
          "base_uri": "https://localhost:8080/"
        },
        "id": "qpDh1idRU4KX",
        "outputId": "a982ec78-925c-4714-be98-b385a1870736"
      },
      "source": [
        "# /content/data/mnist/train-labels-idx1-ubyte\r\n",
        "# 이 파일을 디코딩해서 csv파일에 저장하기\r\n",
        "# 비정형 데이터(바이너리 데이터, 이미지) -> 반정형 데이터로 구성\r\n",
        "file_str  = '/content/data/mnist/train-labels-idx1-ubyte'\r\n",
        "with open(file_str, mode='rb') as f:\r\n",
        "  # 바이너리 파일의 헤더 정보 4+4 바이트를 먼저 읽는다.\r\n",
        "  # f.read( ) : end of file까지 읽는다. 그리고 바이너리는 못 읽음\r\n",
        "\r\n",
        "  # 1.매직넘버 읽기: 빅에디안 4바이트만 읽는다.\r\n",
        "  magic_number  =   struct.unpack( '>I', f.read(4) )\r\n",
        "  print(magic_number)\r\n",
        "\r\n",
        "  # 파일을 읽으면 읽어야 하는 시작 위치가 읽은 값의 크기만큼 이동 : 4바이트에서 커서\r\n",
        "  # 2. 아이템의 개수(레이블 총개수)\r\n",
        "  label_count  =   struct.unpack( '>I', f.read(4) )\r\n",
        "  print(label_count[0])\r\n",
        "  pass\r\n",
        "  # unpack()은 튜플로 리턴 -> 바이트 포멧단위로 여러개를 리턴할 수 있다."
      ],
      "execution_count": null,
      "outputs": [
        {
          "output_type": "stream",
          "text": [
            "(2049,)\n",
            "60000\n"
          ],
          "name": "stdout"
        }
      ]
    },
    {
      "cell_type": "code",
      "metadata": {
        "colab": {
          "base_uri": "https://localhost:8080/"
        },
        "id": "kZkCz__LU4MG",
        "outputId": "7986daa0-2545-4363-83b1-daf47171ae3a"
      },
      "source": [
        "file_str  = '/content/data/mnist/train-labels-idx1-ubyte'\r\n",
        "with open(file_str, mode='rb') as f:\r\n",
        "  # 4바이트 2개씩 읽는다\r\n",
        "  # 에디안 방식으로 읽어야할 항목들을 나열하여 한번에 다 처리\r\n",
        "  magic_number, label_count  =   struct.unpack( '>II', f.read(4+4) )\r\n",
        "label_count"
      ],
      "execution_count": null,
      "outputs": [
        {
          "output_type": "execute_result",
          "data": {
            "text/plain": [
              "60000"
            ]
          },
          "metadata": {
            "tags": []
          },
          "execution_count": 23
        }
      ]
    },
    {
      "cell_type": "code",
      "metadata": {
        "colab": {
          "base_uri": "https://localhost:8080/"
        },
        "id": "ntiJZTHGU4SK",
        "outputId": "1433d4d8-a1b3-4391-c04f-ee25f19e9547"
      },
      "source": [
        "# 레이블을 각각 읽어서 csv에다가 저장\r\n",
        "# 1) 읽기 2) 쓰기\r\n",
        "with open(file_str, mode='rb') as f:\r\n",
        "  magic_number, label_count  =   struct.unpack( '>II', f.read(4+4) )\r\n",
        "  # 총 1 byte를 label_count만큼 읽어야 한다.\r\n",
        "  for idx in range(label_count): # 반복수: 0부터 label_count-1까지\r\n",
        "    # 1 byte를 60000번 읽는다.( 부호 없음: unsigned byte ) : 0~2^(8-1): 0 ~ 255\r\n",
        "    # 실제적으로 세팅된 값은 0,1,2~9 : 손글씨이미지 0부터 9까지 기록\r\n",
        "    (label,)  = struct.unpack( 'B', f.read(1) )\r\n",
        "    print(label)\r\n",
        "    break"
      ],
      "execution_count": null,
      "outputs": [
        {
          "output_type": "stream",
          "text": [
            "5\n"
          ],
          "name": "stdout"
        }
      ]
    },
    {
      "cell_type": "code",
      "metadata": {
        "colab": {
          "base_uri": "https://localhost:8080/",
          "height": 35
        },
        "id": "PsYjaz7IcSu8",
        "outputId": "d623479e-947b-4ccc-8d4a-046364f30d27"
      },
      "source": [
        "os.path.join( savedPath , 'a.csv' )"
      ],
      "execution_count": null,
      "outputs": [
        {
          "output_type": "execute_result",
          "data": {
            "application/vnd.google.colaboratory.intrinsic+json": {
              "type": "string"
            },
            "text/plain": [
              "'./data/mnist/a.csv'"
            ]
          },
          "metadata": {
            "tags": []
          },
          "execution_count": 27
        }
      ]
    },
    {
      "cell_type": "code",
      "metadata": {
        "colab": {
          "base_uri": "https://localhost:8080/",
          "height": 35
        },
        "id": "ghG9WEnjccrG",
        "outputId": "f5905e70-c81c-4ae8-a616-ad23ced82ab9"
      },
      "source": [
        "file_str"
      ],
      "execution_count": null,
      "outputs": [
        {
          "output_type": "execute_result",
          "data": {
            "application/vnd.google.colaboratory.intrinsic+json": {
              "type": "string"
            },
            "text/plain": [
              "'/content/data/mnist/train-labels-idx1-ubyte'"
            ]
          },
          "metadata": {
            "tags": []
          },
          "execution_count": 29
        }
      ]
    },
    {
      "cell_type": "code",
      "metadata": {
        "id": "ZmKSF4NfaoJk"
      },
      "source": [
        "# 2) 쓰기\r\n",
        "with open(file_str, mode='rb') as f:\r\n",
        "  # (1) csv 오픈\r\n",
        "  csv_path  = os.path.join( savedPath , 'train-labels-idx1.csv' )\r\n",
        "  with open(csv_path, 'w' ) as fp:      \r\n",
        "    magic_number, label_count  =   struct.unpack( '>II', f.read(4+4) )\r\n",
        "    if magic_number == 2049: #  이 파일은 레이블 파일\r\n",
        "      for idx in range(label_count): \r\n",
        "        (label,)  = struct.unpack( 'B', f.read(1) )\r\n",
        "        # (2) 줄바꿈 기호 추가하여 저장 -> csv는 최종적으로 60000줄\r\n",
        "        fp.write( str(label)+ '\\n')"
      ],
      "execution_count": null,
      "outputs": []
    },
    {
      "cell_type": "code",
      "metadata": {
        "colab": {
          "base_uri": "https://localhost:8080/"
        },
        "id": "0uhCRIsyU4T1",
        "outputId": "4724178c-6226-46fc-fcc7-091f8886ff16"
      },
      "source": [
        "# 이미지 저장\r\n",
        "file_str  = '/content/data/mnist/train-images-idx3-ubyte'\r\n",
        "with open(file_str, mode='rb') as f:\r\n",
        "  _, imgCnt, rows, cols  =   struct.unpack( '>IIII', f.read(4+4+4+4) )"
      ],
      "execution_count": null,
      "outputs": [
        {
          "output_type": "stream",
          "text": [
            "2051 60000 28 28\n"
          ],
          "name": "stdout"
        }
      ]
    },
    {
      "cell_type": "markdown",
      "metadata": {
        "id": "nnp9D1CXeZWc"
      },
      "source": [
        "- 이미지의 크기는\r\n",
        "- 4+4+4+4 + (28 * 28)* 60000 = 47,040,016 byte"
      ]
    },
    {
      "cell_type": "code",
      "metadata": {
        "colab": {
          "base_uri": "https://localhost:8080/",
          "height": 35
        },
        "id": "HjgNJXDWjngt",
        "outputId": "3342b19f-51f2-42e1-bda5-977a80c691fc"
      },
      "source": [
        "' '.join('12345')\r\n",
        "# 사이사이 넣기"
      ],
      "execution_count": null,
      "outputs": [
        {
          "output_type": "execute_result",
          "data": {
            "application/vnd.google.colaboratory.intrinsic+json": {
              "type": "string"
            },
            "text/plain": [
              "'1 2 3 4 5'"
            ]
          },
          "metadata": {
            "tags": []
          },
          "execution_count": 38
        }
      ]
    },
    {
      "cell_type": "code",
      "metadata": {
        "id": "iAuLmDXGVCZJ"
      },
      "source": [
        "with open(file_str, mode='rb') as f:\r\n",
        "  _, imgCnt, rows, cols  =   struct.unpack( '>IIII', f.read(4+4+4+4) )\r\n",
        "  # 픽셀 크기 지정\r\n",
        "  pixels = rows * cols # 하나당 784 바이트\r\n",
        "  for idx in range( imgCnt ):\r\n",
        "    # 파일 1개를 디코딩 해서 확인(정상 파일인지)\r\n",
        "    header  = f'P2 {rows} {cols} 255\\n' # 컬러의 총 수 255\r\n",
        "    data    = f.read(pixels) \r\n",
        "    # data 프린트해보면 b표시 : byte로 표시된 문자열\r\n",
        "    src     = header + ' '.join(list( map( str, data ) ))  + '\\n'\r\n",
        "    # 파일저장\r\n",
        "    with open( 'test.pgm', 'w', encoding='utf-8') as fp:\r\n",
        "      fp.write( src )\r\n",
        "    break"
      ],
      "execution_count": null,
      "outputs": []
    },
    {
      "cell_type": "code",
      "metadata": {
        "colab": {
          "base_uri": "https://localhost:8080/",
          "height": 142
        },
        "id": "0GP1L32qfA3M",
        "outputId": "05b0a8c0-ba32-40b2-c2e6-efe7d3ddcf66"
      },
      "source": [
        "# 구성원들 하나한 일일이 접근해서 뭔가 작업을 수행하고 싶다면\r\n",
        "# map( 함수, 연속데이터 타입) \r\n",
        "'''\r\n",
        "  1) b\"\\x00\\x00\\x\r\n",
        "  2) ['2','3','4']\r\n",
        "  3) '2 3 4\r\n",
        "'''\r\n",
        "' '.join(list( map( str, data ) ))"
      ],
      "execution_count": null,
      "outputs": [
        {
          "output_type": "execute_result",
          "data": {
            "application/vnd.google.colaboratory.intrinsic+json": {
              "type": "string"
            },
            "text/plain": [
              "'0 0 0 0 0 0 0 0 0 0 0 0 0 0 0 0 0 0 0 0 0 0 0 0 0 0 0 0 0 0 0 0 0 0 0 0 0 0 0 0 0 0 0 0 0 0 0 0 0 0 0 0 0 0 0 0 0 0 0 0 0 0 0 0 0 0 0 0 0 0 0 0 0 0 0 0 0 0 0 0 0 0 0 0 0 0 0 0 0 0 0 0 0 0 0 0 0 0 0 0 0 0 0 0 0 0 0 0 0 0 0 0 0 0 0 0 0 0 0 0 0 0 0 0 0 0 0 0 0 0 0 0 0 0 0 0 0 0 0 0 0 0 0 0 0 0 0 0 0 0 0 0 3 18 18 18 126 136 175 26 166 255 247 127 0 0 0 0 0 0 0 0 0 0 0 0 30 36 94 154 170 253 253 253 253 253 225 172 253 242 195 64 0 0 0 0 0 0 0 0 0 0 0 49 238 253 253 253 253 253 253 253 253 251 93 82 82 56 39 0 0 0 0 0 0 0 0 0 0 0 0 18 219 253 253 253 253 253 198 182 247 241 0 0 0 0 0 0 0 0 0 0 0 0 0 0 0 0 0 0 80 156 107 253 253 205 11 0 43 154 0 0 0 0 0 0 0 0 0 0 0 0 0 0 0 0 0 0 0 14 1 154 253 90 0 0 0 0 0 0 0 0 0 0 0 0 0 0 0 0 0 0 0 0 0 0 0 0 0 139 253 190 2 0 0 0 0 0 0 0 0 0 0 0 0 0 0 0 0 0 0 0 0 0 0 0 0 11 190 253 70 0 0 0 0 0 0 0 0 0 0 0 0 0 0 0 0 0 0 0 0 0 0 0 0 0 35 241 225 160 108 1 0 0 0 0 0 0 0 0 0 0 0 0 0 0 0 0 0 0 0 0 0 0 0 81 240 253 253 119 25 0 0 0 0 0 0 0 0 0 0 0 0 0 0 0 0 0 0 0 0 0 0 0 45 186 253 253 150 27 0 0 0 0 0 0 0 0 0 0 0 0 0 0 0 0 0 0 0 0 0 0 0 16 93 252 253 187 0 0 0 0 0 0 0 0 0 0 0 0 0 0 0 0 0 0 0 0 0 0 0 0 0 249 253 249 64 0 0 0 0 0 0 0 0 0 0 0 0 0 0 0 0 0 0 0 0 0 46 130 183 253 253 207 2 0 0 0 0 0 0 0 0 0 0 0 0 0 0 0 0 0 0 0 39 148 229 253 253 253 250 182 0 0 0 0 0 0 0 0 0 0 0 0 0 0 0 0 0 0 24 114 221 253 253 253 253 201 78 0 0 0 0 0 0 0 0 0 0 0 0 0 0 0 0 0 23 66 213 253 253 253 253 198 81 2 0 0 0 0 0 0 0 0 0 0 0 0 0 0 0 0 18 171 219 253 253 253 253 195 80 9 0 0 0 0 0 0 0 0 0 0 0 0 0 0 0 0 55 172 226 253 253 253 253 244 133 11 0 0 0 0 0 0 0 0 0 0 0 0 0 0 0 0 0 0 136 253 253 253 212 135 132 16 0 0 0 0 0 0 0 0 0 0 0 0 0 0 0 0 0 0 0 0 0 0 0 0 0 0 0 0 0 0 0 0 0 0 0 0 0 0 0 0 0 0 0 0 0 0 0 0 0 0 0 0 0 0 0 0 0 0 0 0 0 0 0 0 0 0 0 0 0 0 0 0 0 0 0 0 0 0 0 0 0 0 0 0 0 0 0 0 0 0 0 0 0 0 0 0 0 0 0 0'"
            ]
          },
          "metadata": {
            "tags": []
          },
          "execution_count": 46
        }
      ]
    },
    {
      "cell_type": "code",
      "metadata": {
        "colab": {
          "base_uri": "https://localhost:8080/",
          "height": 142
        },
        "id": "zUsYBaB5l5_5",
        "outputId": "fd23291a-8252-4d25-e05d-d00e5b2acd7d"
      },
      "source": [
        "','.join(list( map( str, data ) ))\r\n",
        "# csv에 저장할 땐 이렇게"
      ],
      "execution_count": null,
      "outputs": [
        {
          "output_type": "execute_result",
          "data": {
            "application/vnd.google.colaboratory.intrinsic+json": {
              "type": "string"
            },
            "text/plain": [
              "'0,0,0,0,0,0,0,0,0,0,0,0,0,0,0,0,0,0,0,0,0,0,0,0,0,0,0,0,0,0,0,0,0,0,0,0,0,0,0,0,0,0,0,0,0,0,0,0,0,0,0,0,0,0,0,0,0,0,0,0,0,0,0,0,0,0,0,0,0,0,0,0,0,0,0,0,0,0,0,0,0,0,0,0,0,0,0,0,0,0,0,0,0,0,0,0,0,0,0,0,0,0,0,0,0,0,0,0,0,0,0,0,0,0,0,0,0,0,0,0,0,0,0,0,0,0,0,0,0,0,0,0,0,0,0,0,0,0,0,0,0,0,0,0,0,0,0,0,0,0,0,0,3,18,18,18,126,136,175,26,166,255,247,127,0,0,0,0,0,0,0,0,0,0,0,0,30,36,94,154,170,253,253,253,253,253,225,172,253,242,195,64,0,0,0,0,0,0,0,0,0,0,0,49,238,253,253,253,253,253,253,253,253,251,93,82,82,56,39,0,0,0,0,0,0,0,0,0,0,0,0,18,219,253,253,253,253,253,198,182,247,241,0,0,0,0,0,0,0,0,0,0,0,0,0,0,0,0,0,0,80,156,107,253,253,205,11,0,43,154,0,0,0,0,0,0,0,0,0,0,0,0,0,0,0,0,0,0,0,14,1,154,253,90,0,0,0,0,0,0,0,0,0,0,0,0,0,0,0,0,0,0,0,0,0,0,0,0,0,139,253,190,2,0,0,0,0,0,0,0,0,0,0,0,0,0,0,0,0,0,0,0,0,0,0,0,0,11,190,253,70,0,0,0,0,0,0,0,0,0,0,0,0,0,0,0,0,0,0,0,0,0,0,0,0,0,35,241,225,160,108,1,0,0,0,0,0,0,0,0,0,0,0,0,0,0,0,0,0,0,0,0,0,0,0,81,240,253,253,119,25,0,0,0,0,0,0,0,0,0,0,0,0,0,0,0,0,0,0,0,0,0,0,0,45,186,253,253,150,27,0,0,0,0,0,0,0,0,0,0,0,0,0,0,0,0,0,0,0,0,0,0,0,16,93,252,253,187,0,0,0,0,0,0,0,0,0,0,0,0,0,0,0,0,0,0,0,0,0,0,0,0,0,249,253,249,64,0,0,0,0,0,0,0,0,0,0,0,0,0,0,0,0,0,0,0,0,0,46,130,183,253,253,207,2,0,0,0,0,0,0,0,0,0,0,0,0,0,0,0,0,0,0,0,39,148,229,253,253,253,250,182,0,0,0,0,0,0,0,0,0,0,0,0,0,0,0,0,0,0,24,114,221,253,253,253,253,201,78,0,0,0,0,0,0,0,0,0,0,0,0,0,0,0,0,0,23,66,213,253,253,253,253,198,81,2,0,0,0,0,0,0,0,0,0,0,0,0,0,0,0,0,18,171,219,253,253,253,253,195,80,9,0,0,0,0,0,0,0,0,0,0,0,0,0,0,0,0,55,172,226,253,253,253,253,244,133,11,0,0,0,0,0,0,0,0,0,0,0,0,0,0,0,0,0,0,136,253,253,253,212,135,132,16,0,0,0,0,0,0,0,0,0,0,0,0,0,0,0,0,0,0,0,0,0,0,0,0,0,0,0,0,0,0,0,0,0,0,0,0,0,0,0,0,0,0,0,0,0,0,0,0,0,0,0,0,0,0,0,0,0,0,0,0,0,0,0,0,0,0,0,0,0,0,0,0,0,0,0,0,0,0,0,0,0,0,0,0,0,0,0,0,0,0,0,0,0,0,0,0,0,0,0,0'"
            ]
          },
          "metadata": {
            "tags": []
          },
          "execution_count": 49
        }
      ]
    },
    {
      "cell_type": "code",
      "metadata": {
        "id": "FRm7TU6GmBB3"
      },
      "source": [
        "with open(file_str, mode='rb') as f:\r\n",
        "  csv_path  = os.path.join( savedPath , 'train-images-idx3-ubyte.csv' )\r\n",
        "  with open(csv_path, 'w' ) as fp:      \r\n",
        "    _, imgCnt, rows, cols  =   struct.unpack( '>IIII', f.read(4+4+4+4) )\r\n",
        "    pixels = rows * cols \r\n",
        "    for idx in range( imgCnt ): # 한 줄씩 기록\r\n",
        "      data    = f.read(pixels) \r\n",
        "      tmp = ','.join(list( map( str, data ) )) + '\\n'\r\n",
        "      # 구분자는 , 한 개의 데이터(이미지)의 끝은 줄바꿈 기호 추가\r\n",
        "      fp.write( tmp )"
      ],
      "execution_count": null,
      "outputs": []
    },
    {
      "cell_type": "code",
      "metadata": {
        "id": "oREsI9dLnFJr",
        "colab": {
          "base_uri": "https://localhost:8080/",
          "height": 35
        },
        "outputId": "4bb6e271-6c9a-4af7-b0cf-ca123a84c14b"
      },
      "source": [
        "savedPath"
      ],
      "execution_count": null,
      "outputs": [
        {
          "output_type": "execute_result",
          "data": {
            "application/vnd.google.colaboratory.intrinsic+json": {
              "type": "string"
            },
            "text/plain": [
              "'./data/mnist'"
            ]
          },
          "metadata": {
            "tags": []
          },
          "execution_count": 56
        }
      ]
    },
    {
      "cell_type": "code",
      "metadata": {
        "id": "4vuhUzPKlXwQ"
      },
      "source": [
        "# http://paulcuth.me.uk/netpbm-viewer/ 에서 저장된 pgm파일 확인"
      ],
      "execution_count": null,
      "outputs": []
    }
  ]
}